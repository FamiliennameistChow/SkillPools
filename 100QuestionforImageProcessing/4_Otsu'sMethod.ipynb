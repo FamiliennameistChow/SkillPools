{
 "cells": [
  {
   "cell_type": "markdown",
   "metadata": {},
   "source": [
    "### 4. 大津二值化算法\n",
    "大津算法来二值化图像\n",
    "大津算法，也被称作最大类间方差法，是一种可以自动确定二值化中阈值的算法\n",
    "从类内方差和类间方差的比值计算得来：\n",
    "* 小于阈值 t 的类记作 0，大于阈值 t 的类记作 1；\n",
    "* w0 和 w1 是被阈值 t 分开的两个类中的像素数占总像素数的比率（满足 w0+w1=1）；\n",
    "* S0^2, S1^2 是这两个类中像素值的方差；\n",
    "* M0, M1 是这两个类的像素值的平均值；\n",
    "\n",
    "所以\n",
    "* 类内方差：Sw^2 = w0 * S0^2 + w1 * S1^2\n",
    "* 类间方差：Sb^2 = w0 * (M0 - Mt)^2 + w1 * (M1 - Mt)^2 = w0 * w1 * (M0 - M1) ^2\n",
    "* 图像所有像素的方差：St^2 = Sw^2 + Sb^2 = (const)\n",
    "根据以上的式子，我们用以下的式子计算分离度：  \n",
    "> 分离度 X = Sb^2 / Sw^2 = Sb^2 / (St^2 - Sb^2)"
   ]
  },
  {
   "cell_type": "code",
   "execution_count": null,
   "metadata": {},
   "outputs": [],
   "source": []
  }
 ],
 "metadata": {
  "kernelspec": {
   "display_name": "Python 3",
   "language": "python",
   "name": "python3"
  },
  "language_info": {
   "codemirror_mode": {
    "name": "ipython",
    "version": 3
   },
   "file_extension": ".py",
   "mimetype": "text/x-python",
   "name": "python",
   "nbconvert_exporter": "python",
   "pygments_lexer": "ipython3",
   "version": "3.7.1"
  }
 },
 "nbformat": 4,
 "nbformat_minor": 2
}
