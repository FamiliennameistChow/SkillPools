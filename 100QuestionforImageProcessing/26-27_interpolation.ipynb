{
 "cells": [
  {
   "cell_type": "markdown",
   "metadata": {},
   "source": [
    "## Q26 双线性插值 (Bilinear Interpolation)\n",
    "\n",
    "-----\n",
    "[参考](https://www.cnblogs.com/sdxk/p/4056223.html)\n",
    "------\n",
    "\n",
    "双线性插值考察4邻域的像素点，根据距离设置权值。虽然计算量增大使得处理时间变长，但是可以有效抑制画质劣化\n",
    "\n",
    "\n",
    "### opencv 函数\n",
    "\n",
    "```\n",
    "cv2.resize(src,dsize,dst=None,fx=None,fy=None,interpolation=None)\n",
    "```\n",
    "* src 原图\n",
    "* dsize 输出原图像\n",
    "* fx 沿着水平轴的比例因子\n",
    "* fy 沿着垂直轴的比例因子\n",
    "* interprolation 插值方法\n",
    "\n",
    "|interpolation 选项|所用的插值方法|\n",
    "|-|-|\n",
    "|INTER_NEAREST    |最近邻插值|\n",
    "|INTER_LINEAR     |双线性插值（默认设置）|\n",
    "|INTER_AREA      |\t使用像素区域关系进行重采样。 它可能是图像抽取的首选方法，因为它会产生无云纹理的结果。 但是当图像缩放时，它类似于INTER_NEAREST方法。|\n",
    "|INTER_CUBIC     |\t4x4像素邻域的双三次插值 |\n",
    "|INTER_LANCZOS4   |\t8x8像素邻域的Lanczos插值 |\n",
    "\n",
    "\n"
   ]
  },
  {
   "cell_type": "code",
   "execution_count": 2,
   "metadata": {},
   "outputs": [],
   "source": [
    "import cv2\n",
    "import numpy as np\n",
    "import matplotlib.pyplot as plt"
   ]
  },
  {
   "cell_type": "code",
   "execution_count": 58,
   "metadata": {},
   "outputs": [
    {
     "name": "stdout",
     "output_type": "stream",
     "text": [
      "H:  128 W: 128\n",
      "after H:  192 after W: 192\n"
     ]
    },
    {
     "data": {
      "text/plain": [
       "-1"
      ]
     },
     "execution_count": 58,
     "metadata": {},
     "output_type": "execute_result"
    }
   ],
   "source": [
    "img = cv2.imread(\"gg.jpg\")\n",
    "\n",
    "(H, W, C) = img.shape\n",
    "print(\"H: \", H, \"W:\", W)\n",
    "\n",
    "ratio = 1.5\n",
    "\n",
    "Height = int(H * ratio)\n",
    "Width = int(W * ratio)\n",
    "print(\"after H: \", Height, \"after W:\", Width)\n",
    "\n",
    "img_out = np.zeros((Height, Width, C), dtype = np.int)\n",
    "\n",
    "for height in range(Height):\n",
    "    for width in range(Width):\n",
    "        \n",
    "        h = int(height / ratio)\n",
    "        w = int(width / ratio)\n",
    "        # 边界处理\n",
    "        if w > W - 2:\n",
    "            w = W - 2\n",
    "        if h > H - 2:\n",
    "            h = H - 2\n",
    "        \n",
    "#         fR1 = (width / ratio - w) * img[h , w+1] + (w + 1 - (width / ratio)) * img[h, w]\n",
    "#         fR2 = (width / ratio - w) * img[h + 1 , w+1] + (w + 1 - (width / ratio)) * img[h + 1, w]\n",
    "#         img_out[height, width] = (height / ratio - h) * fR2 + (h + 1 - (height / ratio)) * fR1\n",
    "        \n",
    "        dh = (height / ratio) - h\n",
    "        dw = (width / ratio) - w\n",
    "#         print(dh, dw)\n",
    "        img_out[height, width] = dh* dw * img[h + 1, w + 1] + (1-dh) * dw * img[h, w + 1] + \\\n",
    "                                dh * (1- dw) * img[h+1, w] + (1- dh) * (1- dw) * img[h + 1, w + 1]\n",
    "\n",
    "img_out = img_out.astype(np.uint8)\n",
    "\n",
    "# img = cv2.cvtColor(img, cv2.COLOR_BGR2RGB)\n",
    "# img_out = cv2.cvtColor(img_out, cv2.COLOR_BGR2RGB)\n",
    "            \n",
    "cv2.imshow(\"img\", img)\n",
    "cv2.imshow(\"img_out\", img_out)\n",
    "cv2.waitKey()\n"
   ]
  },
  {
   "cell_type": "markdown",
   "metadata": {},
   "source": [
    "## 双三次插值Bicubic Interpolation\n",
    "\n",
    "[参考](https://blog.csdn.net/linqianbi/article/details/78594019)\n",
    "\n",
    "**代码有误**"
   ]
  },
  {
   "cell_type": "code",
   "execution_count": 57,
   "metadata": {},
   "outputs": [
    {
     "data": {
      "text/plain": [
       "-1"
      ]
     },
     "execution_count": 57,
     "metadata": {},
     "output_type": "execute_result"
    }
   ],
   "source": [
    "img = cv2.imread(\"gg.jpg\")\n",
    "\n",
    "(H, W, C) = img.shape\n",
    "\n",
    "ratio = 1.5\n",
    "\n",
    "Height = int(H * ratio)\n",
    "Width = int(W * ratio)\n",
    "\n",
    "img_out = np.zeros((Height, Width, C), dtype=np.int)\n",
    "d = np.zeros((4, 4), dtype= np.int)\n",
    "\n",
    "# 构造BiCubic基函数\n",
    "def BiCubic(dis):\n",
    "    a = -0.5\n",
    "    ab_dis = np.abs(dis)\n",
    "    if ab_dis <= 1:\n",
    "        weight = (a + 2) * np.power(ab_dis, 3) - (a + 3) * np.power(ab_dis, 2) + 1\n",
    "    elif (ab_dis < 2):\n",
    "        weight = a* np.power(ab_dis, 3) - 5 * a * np.power(ab_dis, 2) + 8 * a * ab_dis - 4 * a\n",
    "    else:\n",
    "        weight = 0\n",
    "    return weight\n",
    "    \n",
    "img_out = np.zeros((Height, Width, C), dtype = np.int) \n",
    "\n",
    "for height in range(Height):\n",
    "    for width in range(Width):\n",
    "        for c in range(C):\n",
    "            h = int(height / ratio)\n",
    "            w = int(width / ratio)\n",
    "#             print(h , w)\n",
    "            \n",
    "            # 边界处理\n",
    "            if w > W - 3:\n",
    "                w = W - 3\n",
    "            if h > H - 3:\n",
    "                h = H - 3\n",
    "            if h < 1:\n",
    "                h = 1\n",
    "            if w < 1:\n",
    "                w = 1\n",
    "\n",
    "            dh = (height / ratio) - h\n",
    "            dw = (width / ratio) - w\n",
    "\n",
    "#             h_list = np.transpose(np.array([[dh+1, dh, 1-dh, 2-dh]], dtype=np.float32))\n",
    "#             w_list = np.array([[dw+1, dw, 1-dw, 2-dw]], dtype=np.float32)\n",
    "#             h_list = [BiCubic(h_list[i][0]) for i in range(len(h_list))]\n",
    "#             w_list = [BiCubic(w_list[0][i]) for i in range(len(w_list[0]))]\n",
    "            w_list = np.transpose(np.array([[dw+1, dw, 1-dw, 2-dw]], dtype=np.float32))\n",
    "            h_list = np.array([[dh+1, dh, 1-dh, 2-dh]], dtype=np.float32)\n",
    "            w_list = [BiCubic(w_list[i][0]) for i in range(len(w_list))]\n",
    "            h_list = [BiCubic(h_list[0][i]) for i in range(len(h_list[0]))]\n",
    "\n",
    "    #         print(h_list)\n",
    "    #         print(w_list)\n",
    "\n",
    "            dis = np.dot(h_list, w_list)\n",
    "#             dis = [[BiCubic(dis[i][j]) for j in range(dis.shape[1])] for i in range(dis.shape[0])]\n",
    "            \n",
    "#             print(\"img shape\",img[h - 1 : h + 3, w - 1 : w + 3, c].shape)\n",
    "#             print(\"dis shape\", dis.shape)\n",
    "            img_out[height, width, c] = np.sum(img[h - 1 : h + 3, w - 1 : w + 3, c] * dis)\n",
    "\n",
    "img_out = img_out.astype(np.uint8)\n",
    "\n",
    "cv2.imshow(\"img\", img)\n",
    "cv2.imshow(\"img_out\", img_out)\n",
    "cv2.waitKey()        "
   ]
  }
 ],
 "metadata": {
  "kernelspec": {
   "display_name": "Python 3",
   "language": "python",
   "name": "python3"
  },
  "language_info": {
   "codemirror_mode": {
    "name": "ipython",
    "version": 3
   },
   "file_extension": ".py",
   "mimetype": "text/x-python",
   "name": "python",
   "nbconvert_exporter": "python",
   "pygments_lexer": "ipython3",
   "version": "3.7.1"
  }
 },
 "nbformat": 4,
 "nbformat_minor": 2
}
