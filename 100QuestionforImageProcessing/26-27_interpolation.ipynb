{
 "cells": [
  {
   "cell_type": "markdown",
   "metadata": {},
   "source": [
    "## Q26 双线性插值 (Bilinear Interpolation)\n",
    "\n",
    "-----\n",
    "[参考](https://www.cnblogs.com/sdxk/p/4056223.html)\n",
    "------\n",
    "\n",
    "双线性插值考察4邻域的像素点，根据距离设置权值。虽然计算量增大使得处理时间变长，但是可以有效抑制画质劣化\n",
    "\n",
    "\n",
    "\n"
   ]
  },
  {
   "cell_type": "code",
   "execution_count": 2,
   "metadata": {},
   "outputs": [],
   "source": [
    "import cv2\n",
    "import numpy as np\n",
    "import matplotlib.pyplot as plt"
   ]
  },
  {
   "cell_type": "code",
   "execution_count": 4,
   "metadata": {},
   "outputs": [
    {
     "name": "stdout",
     "output_type": "stream",
     "text": [
      "H:  128 W: 128\n",
      "after H:  192 after W: 192\n"
     ]
    },
    {
     "data": {
      "text/plain": [
       "-1"
      ]
     },
     "execution_count": 4,
     "metadata": {},
     "output_type": "execute_result"
    }
   ],
   "source": [
    "img = cv2.imread(\"gg.jpg\")\n",
    "\n",
    "(H, W, C) = img.shape\n",
    "print(\"H: \", H, \"W:\", W)\n",
    "\n",
    "ratio = 1.5\n",
    "\n",
    "Height = int(H * ratio)\n",
    "Width = int(W * ratio)\n",
    "print(\"after H: \", Height, \"after W:\", Width)\n",
    "\n",
    "img_out = np.zeros((Height, Width, C), dtype = np.int)\n",
    "\n",
    "for height in range(Height):\n",
    "    for width in range(Width):\n",
    "        \n",
    "        h = int(height / ratio)\n",
    "        w = int(width / ratio)\n",
    "        # 边界处理\n",
    "        if w > W - 2:\n",
    "            w = W - 2\n",
    "        if h > H - 2:\n",
    "            h = H - 2\n",
    "        \n",
    "#         fR1 = (width / ratio - w) * img[h , w+1] + (w + 1 - (width / ratio)) * img[h, w]\n",
    "#         fR2 = (width / ratio - w) * img[h + 1 , w+1] + (w + 1 - (width / ratio)) * img[h + 1, w]\n",
    "#         img_out[height, width] = (height / ratio - h) * fR2 + (h + 1 - (height / ratio)) * fR1\n",
    "        \n",
    "        dh = h - int(height / ratio)\n",
    "        dw = w - int(width / ratio)\n",
    "        img_out[height, width] = dh* dw * img[h + 1, w + 1] + (1-dh) * dw * img[h, w + 1] + \\\n",
    "                                dh * (1- dw) * img[h+1, w] + (1- dh) * (1- dw) * img[h + 1, w + 1]\n",
    "\n",
    "img_out = img_out.astype(np.uint8)\n",
    "\n",
    "# img = cv2.cvtColor(img, cv2.COLOR_BGR2RGB)\n",
    "# img_out = cv2.cvtColor(img_out, cv2.COLOR_BGR2RGB)\n",
    "            \n",
    "cv2.imshow(\"img\", img)\n",
    "cv2.imshow(\"img_out\", img_out)\n",
    "cv2.waitKey()\n"
   ]
  },
  {
   "cell_type": "markdown",
   "metadata": {},
   "source": [
    "## 双三次插值Bicubic Interpolation\n",
    "\n",
    "[参考](https://blog.csdn.net/linqianbi/article/details/78594019)"
   ]
  },
  {
   "cell_type": "code",
   "execution_count": 1,
   "metadata": {},
   "outputs": [
    {
     "ename": "SyntaxError",
     "evalue": "unexpected EOF while parsing (<ipython-input-1-204cc3444621>, line 12)",
     "output_type": "error",
     "traceback": [
      "\u001b[1;36m  File \u001b[1;32m\"<ipython-input-1-204cc3444621>\"\u001b[1;36m, line \u001b[1;32m12\u001b[0m\n\u001b[1;33m    for height in range(Height):\u001b[0m\n\u001b[1;37m                                ^\u001b[0m\n\u001b[1;31mSyntaxError\u001b[0m\u001b[1;31m:\u001b[0m unexpected EOF while parsing\n"
     ]
    }
   ],
   "source": [
    "img = cv2.imread(\"gg.jpg\")\n",
    "\n",
    "(H, W, C) = img.shape\n",
    "\n",
    "ratio = 1.5\n",
    "\n",
    "Height = int(H * ratio)\n",
    "Width = int(W * ratio)\n",
    "\n",
    "img_out = np.zeros((Height, Width, C), dtype=np.int)\n",
    "d = np.zeros((4, 4), dtype= np.int)\n",
    "\n",
    "for height in range(Height):\n",
    "    for width in range(Width):\n",
    "        h = int(height / ratio)\n",
    "        w = int(width / ratio)\n",
    "        # 边界处理\n",
    "        if w > W - 2:\n",
    "            w = W - 2\n",
    "        if h > H - 2:\n",
    "            h = H - 2\n",
    "        \n",
    "        \n",
    "        \n",
    "        \n"
   ]
  },
  {
   "cell_type": "code",
   "execution_count": null,
   "metadata": {},
   "outputs": [],
   "source": []
  }
 ],
 "metadata": {
  "kernelspec": {
   "display_name": "Python 3",
   "language": "python",
   "name": "python3"
  },
  "language_info": {
   "codemirror_mode": {
    "name": "ipython",
    "version": 3
   },
   "file_extension": ".py",
   "mimetype": "text/x-python",
   "name": "python",
   "nbconvert_exporter": "python",
   "pygments_lexer": "ipython3",
   "version": "3.7.1"
  }
 },
 "nbformat": 4,
 "nbformat_minor": 2
}
