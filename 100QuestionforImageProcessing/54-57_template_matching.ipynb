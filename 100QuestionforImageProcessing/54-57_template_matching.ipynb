{
 "cells": [
  {
   "cell_type": "markdown",
   "metadata": {},
   "source": [
    "## 模板匹配\n",
    "\n",
    "----\n",
    "* [https://blog.csdn.net/hujingshuang/article/details/47759579](https://blog.csdn.net/hujingshuang/article/details/47759579)\n",
    "\n",
    "----\n",
    "\n",
    "模式匹配，即寻找待匹配图像和全体图像中最相似的部分，用于物体检测任务。现在虽然使用卷积神经网络（CNN）来检测物体，但是模式识别仍然是最基本的处理方法。\n",
    "\n",
    "\n",
    "下面介绍具体算法。原图像记为I（H x W），待匹配图像为T（h x w）：\n",
    "\n",
    "* 对于图像I：、for ( j = 0, H-h) for ( i = 0, W-w)在一次移动1像素的过程中，原图像I的一部分I(i:i+w, j:j+h)与待匹配图像计算相似度S。\n",
    "* S最大或最小的地方即为匹配的位置\n",
    "\n",
    "S的计算方法主要有`SSD`(误差平方和算法)、`SAD`(绝对误差和算法)、`NCC`(归一化积相关算法)、`ZNCC`等\n",
    "\n",
    "像模式匹配这样，从图像的左上角开始往右进行顺序查找的操作一般称作光栅扫描（Raster Scan）或者滑动窗口(sliding window)扫描\n",
    "\n",
    "### bug\n",
    "*　未能进行尺度变化\n",
    "\n",
    "\n",
    "### Q54 误差平方和算法（Sum of Squared Difference）\n",
    "\n",
    "使用误差平方和SSD（Sum of Squared Difference）。SSD计算像素值的差的平方和，S取误差平方和最小的地方\n",
    "\n",
    "```\n",
    "S = Sum_{x=0:w, y=0:h} (I(i+x, j+y) - T(x, y) )^2\n",
    "```"
   ]
  },
  {
   "cell_type": "code",
   "execution_count": 1,
   "metadata": {},
   "outputs": [],
   "source": [
    "import cv2\n",
    "import numpy as np\n",
    "import matplotlib.pyplot as plt"
   ]
  },
  {
   "cell_type": "code",
   "execution_count": null,
   "metadata": {},
   "outputs": [],
   "source": [
    "img = cv2.imread(\"gg.jpg\")\n",
    "(H, W, C) = img.shape\n",
    "img_gray = cv2.cvtColor(img, cv2.COLOR_BGR2GRAY)\n",
    "\n",
    "temp = cv2.imrad(\"temp.jpg\")\n",
    "(tH, tW, tC) = temp.shape\n",
    "temp_gray = cv2.cvtColor(temp, cv2.COLOR_BGR2GRAY)\n",
    "\n",
    "def ssd(temp, src):\n",
    "    dis = np.sum((temp -src)**2)\n",
    "    return dis\n",
    "\n",
    "h_select = 0\n",
    "w_select = 0\n",
    "for h in range(H-tH):\n",
    "    for w in range(W-tW):\n",
    "        dis = ssd\n",
    "        \n",
    "        \n",
    "\n",
    "    "
   ]
  }
 ],
 "metadata": {
  "kernelspec": {
   "display_name": "Python 3",
   "language": "python",
   "name": "python3"
  },
  "language_info": {
   "codemirror_mode": {
    "name": "ipython",
    "version": 3
   },
   "file_extension": ".py",
   "mimetype": "text/x-python",
   "name": "python",
   "nbconvert_exporter": "python",
   "pygments_lexer": "ipython3",
   "version": "3.7.1"
  }
 },
 "nbformat": 4,
 "nbformat_minor": 2
}
