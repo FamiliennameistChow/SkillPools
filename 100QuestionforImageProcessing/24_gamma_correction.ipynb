{
 "cells": [
  {
   "cell_type": "markdown",
   "metadata": {},
   "source": [
    "## Q24 伽马矫正\n",
    "\n",
    "[参考](https://blog.csdn.net/akadiao/article/details/79679306)\n",
    "\n",
    "gamma矫正通常用于电视和监视器系统中重现摄像机拍摄的画面．在图像处理中也可用于调节图像的对比度，减少图像的光照不均和局部阴影\n",
    "\n",
    "gamma矫正公式：\n",
    "\n",
    "$$\n",
    "f(x)=x^{\\gamma}\n",
    "$$\n",
    "\n",
    "即输出是输入的幂函数，指数为γ．\n",
    "\n",
    "当γ取不同的值时对应的输入输出曲线( γ=1时输入输出保持一致)"
   ]
  },
  {
   "cell_type": "code",
   "execution_count": 2,
   "metadata": {},
   "outputs": [],
   "source": [
    "import cv2\n",
    "import numpy as np\n",
    "import matplotlib.pyplot as plt"
   ]
  },
  {
   "cell_type": "code",
   "execution_count": null,
   "metadata": {},
   "outputs": [],
   "source": []
  }
 ],
 "metadata": {
  "kernelspec": {
   "display_name": "Python 3",
   "language": "python",
   "name": "python3"
  },
  "language_info": {
   "codemirror_mode": {
    "name": "ipython",
    "version": 3
   },
   "file_extension": ".py",
   "mimetype": "text/x-python",
   "name": "python",
   "nbconvert_exporter": "python",
   "pygments_lexer": "ipython3",
   "version": "3.7.1"
  }
 },
 "nbformat": 4,
 "nbformat_minor": 2
}
