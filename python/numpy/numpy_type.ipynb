{
 "cells": [
  {
   "cell_type": "markdown",
   "metadata": {},
   "source": [
    "## numpy 数据类型\n",
    "\n",
    "|Tables |Are |\n",
    "|:-|:-|\n",
    "|int|\tint_|\n",
    "|bool|\tbool_|\n",
    "|float |\tfloat_|\n",
    "|complex|\tcfloat|\n",
    "|str|\tstring|\n",
    "|unicode|\tunicode_|\n",
    "|buffer|\tvoid|\n",
    "|(all others)|\tobject_|\n"
   ]
  },
  {
   "cell_type": "markdown",
   "metadata": {},
   "source": [
    "## np.complex() 表示复数"
   ]
  },
  {
   "cell_type": "code",
   "execution_count": 12,
   "metadata": {},
   "outputs": [
    {
     "name": "stdout",
     "output_type": "stream",
     "text": [
      "(1+2j)\n",
      "2.23606797749979\n"
     ]
    }
   ],
   "source": [
    "import numpy as np\n",
    "a = np.complex(1, 2)\n",
    "print(a)\n",
    "# print(a.dtype)\n",
    "print(abs(a))"
   ]
  },
  {
   "cell_type": "code",
   "execution_count": 8,
   "metadata": {},
   "outputs": [
    {
     "name": "stdout",
     "output_type": "stream",
     "text": [
      "[ 1.  2.  3.  4.  5.  6.  7.  8.  9. 10. 11. 12. 13. 14. 15. 16. 17. 18.\n",
      " 19. 20.] \n",
      " float64\n"
     ]
    }
   ],
   "source": [
    "a = np.linspace(1, 20, 20)\n",
    "print(a,\n",
    "     \"\\n\",a.dtype)\n"
   ]
  }
 ],
 "metadata": {
  "kernelspec": {
   "display_name": "Python 3",
   "language": "python",
   "name": "python3"
  },
  "language_info": {
   "codemirror_mode": {
    "name": "ipython",
    "version": 3
   },
   "file_extension": ".py",
   "mimetype": "text/x-python",
   "name": "python",
   "nbconvert_exporter": "python",
   "pygments_lexer": "ipython3",
   "version": "3.7.1"
  }
 },
 "nbformat": 4,
 "nbformat_minor": 2
}
