{
 "cells": [
  {
   "cell_type": "markdown",
   "metadata": {},
   "source": [
    "## numpy 函数示例\n",
    "* [.all()与.any()](#1)\n",
    "* [删除矩阵中的某些元素](#2)\n",
    "* [np.where](#3)\n",
    "* [生成随机数](#4)\n"
   ]
  },
  {
   "cell_type": "markdown",
   "metadata": {},
   "source": [
    "###  <span id=\"1\">.all()与.any()</span>\n",
    "主要用于两个矩阵的比较  \n"
   ]
  },
  {
   "cell_type": "code",
   "execution_count": 2,
   "metadata": {},
   "outputs": [],
   "source": [
    "import numpy as np"
   ]
  },
  {
   "cell_type": "code",
   "execution_count": 3,
   "metadata": {},
   "outputs": [
    {
     "name": "stdout",
     "output_type": "stream",
     "text": [
      "[[False  True  True]\n",
      " [False False  True]]\n",
      "[[False False False]\n",
      " [ True  True False]]\n",
      "False\n",
      "True\n"
     ]
    }
   ],
   "source": [
    "a = np.array([[1, 2, 3],\n",
    "              [3, 6, 8]])\n",
    "              \n",
    "b = np.array([[2, 2, 3],\n",
    "              [1, 3, 8]])\n",
    "              \n",
    "print(a == b)\n",
    "print(a > b)\n",
    "# .all()如果两个矩阵中的所有元素对应相等，则返回True，反之返回False\n",
    "print((a == b).all())\n",
    "# .any()如果判断两个矩阵中是否有相等的元素，有任何一个相等就行\n",
    "print((a > b).any())"
   ]
  },
  {
   "cell_type": "markdown",
   "metadata": {},
   "source": [
    "###  <span id=\"2\">删除矩阵中的某些元素</span>\n",
    "```python\n",
    "np.delete(numpy, index)\n",
    "```\n",
    "> * numpy - 需要删除的数组\n",
    "> * index - 需要删除的元素的坐标\n"
   ]
  },
  {
   "cell_type": "code",
   "execution_count": 4,
   "metadata": {},
   "outputs": [
    {
     "name": "stdout",
     "output_type": "stream",
     "text": [
      "[0 1 2 7]\n"
     ]
    }
   ],
   "source": [
    "a = np.array([0, 1, 2, 4, 7])\n",
    "# 删除4\n",
    "print(np.delete(a, np.where(a == 4)))"
   ]
  },
  {
   "cell_type": "markdown",
   "metadata": {},
   "source": [
    "###  <span id=\"3\">np.where()</span>\n",
    "\n",
    "返回满足条件的x坐标与y坐标数组\n",
    "\n",
    "```\n",
    "np.where(c[1:, 1:] == 1)\n",
    "```\n",
    "注意此时的x下标与y下标"
   ]
  },
  {
   "cell_type": "code",
   "execution_count": 11,
   "metadata": {},
   "outputs": [
    {
     "name": "stdout",
     "output_type": "stream",
     "text": [
      "(array([0, 0, 1, 2], dtype=int64), array([0, 2, 2, 2], dtype=int64))\n",
      "(array([0, 1], dtype=int64), array([1, 1], dtype=int64))\n"
     ]
    }
   ],
   "source": [
    "c = np.array([[1, 0, 1],\n",
    "              [0, 0, 1],\n",
    "              [0, 0, 1]])\n",
    "\n",
    "print(np.where(c ==1))\n",
    "\n",
    "print(np.where(c[1:, 1:] == 1))"
   ]
  },
  {
   "cell_type": "markdown",
   "metadata": {},
   "source": [
    "###  <span id=\"3\">np.pad()</span>\n",
    "\n",
    "常用与深度学习中的数据预处理，可以将numpy数组按指定的方法填充成指定的形状\n",
    "\n",
    "```\n",
    "pad(array, pad_width, mode, **kwargs)\n",
    "```\n",
    "> array——表示需要填充的数组\n",
    "> pad_width——表示每个轴（axis）边缘需要填充的数值数目\n",
    "参数输入方式为：（(before_1, after_1), … (before_N, after_N)），其中(before_1, after_1)表示第1轴两边缘分别填充before_1个和after_1个数值。取值为：{sequence, array_like, int}\n",
    "> mode——表示填充的方式（取值：str字符串或用户提供的函数）,总共有11种填充模式\n",
    "* 填充的方式：\n",
    "> 1. \"constant\" ——表示连续填充相同的值，每个轴可以分别指定填充值，constant_values=（x, y）时前面用x填充，后面用y填充，缺省值填充0\n",
    "> 2. \"edge\"——表示用边缘值填充\n",
    "> 3. \"linear_ramp\"——表示用边缘递减的方式填充\n",
    "> 4. \"maximum, mean, median, minimum\"分别用最大值、均值、中位数和最小值填充\n",
    "> 5. \"reflect\" ——表示对称填充\n",
    "> 6. \"symmetric\" ——表示对称填充\n",
    "> 7. \"wrap\" ——表示用原数组后面的值填充前面，前面的值填充后面\n",
    "\n",
    "#### 对一维数组的填充\n",
    "\n",
    "\n",
    "#### 对多维数组的填充"
   ]
  },
  {
   "cell_type": "code",
   "execution_count": 33,
   "metadata": {},
   "outputs": [
    {
     "name": "stdout",
     "output_type": "stream",
     "text": [
      "origin:        [1 1 2 2 3 4]\n",
      "constant:     [2 2 1 1 2 2 3 4 2 2 2]\n",
      "edge:         [1 1 1 1 2 2 3 4 4 4 4]\n",
      "linear_ramp:  [0 0 1 1 2 2 3 4 3 1 0]\n",
      "maximum:      [4 4 1 1 2 2 3 4 4 4 4]\n",
      "mean:         [2 2 1 1 2 2 3 4 2 2 2]\n",
      "median:       [2 2 1 1 2 2 3 4 2 2 2]\n",
      "minimum:      [1 1 1 1 2 2 3 4 1 1 1]\n",
      "reflect:      [2 1 1 1 2 2 3 4 3 2 2]\n",
      "symmetric:    [1 1 1 1 2 2 3 4 4 3 2]\n",
      "wrap:         [3 4 1 1 2 2 3 4 1 1 2]\n",
      "origin:\n",
      " [[95 96]\n",
      " [97 98]]\n",
      "constant:\n",
      "[[-1 -1 -1 -1  0  0  0]\n",
      " [-1 -1 -1 -1  0  0  0]\n",
      " [-1 -1 -1 -1  0  0  0]\n",
      " [-1 -1 95 96  0  0  0]\n",
      " [-1 -1 97 98  0  0  0]\n",
      " [-1 -1  0  0  0  0  0]\n",
      " [-1 -1  0  0  0  0  0]]\n",
      "edge:\n",
      "[[95 95 96 96]\n",
      " [95 95 96 96]\n",
      " [97 97 98 98]\n",
      " [97 97 98 98]]\n",
      "linear_ramp:\n",
      "[[ 0  0  0  0  0]\n",
      " [ 0 48 95 96  0]\n",
      " [ 0 48 97 98  0]\n",
      " [ 0 24 48 49  0]\n",
      " [ 0  0  0  0  0]]\n",
      "maximum:\n",
      "[[98 98 97 98 98]\n",
      " [96 96 95 96 96]\n",
      " [98 98 97 98 98]\n",
      " [98 98 97 98 98]\n",
      " [98 98 97 98 98]]\n"
     ]
    }
   ],
   "source": [
    "# 对一维数组的填充\n",
    "arr1D = np.array([1, 1, 2, 2, 3, 4])\n",
    "print(\"origin:       \" , arr1D)\n",
    "print(\"constant:     \" + str(np.pad(arr1D, (2, 3), 'constant', constant_values=2)))\n",
    "print(\"edge:         \" + str(np.pad(arr1D, (2, 3), 'edge')))\n",
    "print(\"linear_ramp:  \" + str(np.pad(arr1D, (2, 3), 'linear_ramp')))\n",
    "print(\"maximum:      \" + str(np.pad(arr1D, (2, 3), 'maximum')))\n",
    "print(\"mean:         \" + str(np.pad(arr1D, (2, 3), 'mean'))) \n",
    "print(\"median:       \" + str(np.pad(arr1D, (2, 3), 'median')))\n",
    "print(\"minimum:      \" + str(np.pad(arr1D, (2, 3), 'minimum')))\n",
    "print(\"reflect:      \" + str(np.pad(arr1D, (2, 3), 'reflect')))\n",
    "print(\"symmetric:    \" + str(np.pad(arr1D, (2, 3), 'symmetric')))\n",
    "print(\"wrap:         \" + str(np.pad(arr1D, (2, 3), 'wrap')))\n",
    "\n",
    "arr2D = np.array([[95, 96],\n",
    "       [97, 98]])\n",
    "print(\"origin:\\n\" , arr2D)\n",
    "#在数组A的边缘填充constant_values指定的数值\n",
    "#（3,2）表示在A的第[0]轴填充（二维数组中，0轴表示行），\n",
    "# 即在0轴前面填充3个宽度的0，比如数组A中的95,96两个元素前面各填充了3个0；在后面填充2个0，比如数组A中的97,98两个元素后面各填充了2个0\n",
    "#（2,3）表示在A的第[1]轴填充（二维数组中，1轴表示列），即在1轴前面填充2个宽度的0，后面填充3个宽度的0\n",
    "print(\"constant:\\n\" + str(np.pad(arr2D,((3,2),(2,3)),'constant',constant_values = (-1,0))))\n",
    "print(\"edge:\\n\" + str(np.pad(arr2D,((1,2),(2,1)),'edge')))\n",
    "print(\"linear_ramp:\\n\" + str(np.pad(arr2D,((1,2),(2,1)),'linear_ramp')))\n",
    "# #maximum填充模式还有其他控制参数，比如stat_length，详细见numpy库\n",
    "print(\"maximum:\\n\" + str(np.pad(arr2D,((1,2),(2,1)),'maximum')))\n"
   ]
  },
  {
   "cell_type": "markdown",
   "metadata": {},
   "source": [
    "\n",
    "------\n",
    "###  <span id=\"3\">生成随机数</span>\n",
    "\n",
    "* [numpy.random.rand](#3.1)  \n",
    "\n",
    "* [numpy.random.randint(low, high=None, size=None, dtype='l')](#3.2)\n",
    "\n",
    "* [numpy.random.uniform](#3.3) \n",
    "\n",
    "* [numpy.random.randn(d0, d1, ..., dn)(low=0.0, high=1.0, size=None)](#3.4)  \n",
    "\n",
    "* [numpy.random.normal(loc=0.0, scale=1.0, size=None)](#3.5)\n",
    "\n",
    "----\n",
    "#### 参考\n",
    "[https://www.cnblogs.com/sench/p/9683905.html](https://www.cnblogs.com/sench/p/9683905.html)\n",
    "\n",
    "\n",
    "----\n",
    "\n",
    "#### <span id=\"3.1\">numpy.random.rand(d0, d1, d2,...dn)</span>\n",
    "\n",
    "作用：产生一个给定形状的数组（其实应该是ndarray对象或者是一个单值），数组中的值服从[0,1)之间的均匀分布。\n",
    "\n",
    "参数：d0, d, ..., dn : int，可选。如果没有参数则返回一个float型的随机数，该随机数服从[0, 1)之间的均匀分布。\n",
    "\n",
    "返回值：ndarray对象或者一个float型的值"
   ]
  },
  {
   "cell_type": "code",
   "execution_count": 9,
   "metadata": {},
   "outputs": [
    {
     "name": "stdout",
     "output_type": "stream",
     "text": [
      "[[0.23689509 0.84959009]\n",
      " [0.8801886  0.34142962]\n",
      " [0.09864728 0.50619271]]\n",
      "0.352472171036615\n"
     ]
    }
   ],
   "source": [
    "import numpy as np\n",
    "# [0, 1]之间的随机数，指定形状（3行2列）\n",
    "a = np.random.rand(3, 2)\n",
    "print(a)\n",
    "# 不指定形状\n",
    "b = np.random.rand()\n",
    "print(b)"
   ]
  },
  {
   "cell_type": "markdown",
   "metadata": {},
   "source": [
    "####  <span id=\"3.2\">numpy.random.randint(low, high=None, size=None, dtype='l')</span>\n",
    "\n",
    "作用：返回一个在区间[low, high)中**离散均匀抽样**的数组，size指定形状，dtype指定数据类型。 \n",
    "参数：  \n",
    "low, high：int型，指定抽样区间[low, high)  \n",
    "\n",
    "size：int型或int型的元组，指定形状  \n",
    "\n",
    "dypte：可选参数，指定数据类型，比如int,int64等，默认是np.int  \n",
    "\n",
    "返回值：如果指定了size，则返回一个int型的ndarray对象，否则返回一个服从该分布的int型随机数。"
   ]
  },
  {
   "cell_type": "code",
   "execution_count": 10,
   "metadata": {},
   "outputs": [
    {
     "name": "stdout",
     "output_type": "stream",
     "text": [
      "[[1 9]\n",
      " [8 8]\n",
      " [7 4]]\n",
      "8\n",
      "4\n"
     ]
    },
    {
     "data": {
      "text/plain": [
       "numpy.int64"
      ]
     },
     "execution_count": 10,
     "metadata": {},
     "output_type": "execute_result"
    }
   ],
   "source": [
    "# 在[1, 10)之间离散均匀抽样，数组形状为3行2列\n",
    "a = np.random.randint(1, 10, (3, 2))\n",
    "print(a)\n",
    "# 不提供size\n",
    "b = np.random.randint(1, 10)\n",
    "print(b)\n",
    "# 指定dtype\n",
    "c = np.random.randint(1, 10, dtype=np.int64)\n",
    "print(c)\n",
    "type(c)"
   ]
  },
  {
   "cell_type": "markdown",
   "metadata": {},
   "source": [
    "-----\n",
    "\n",
    "####  <span id=\"3.3\">numpy.random.uniform(low=0.0, high=1.0, size=None)</span>\n",
    "\n",
    "作用：返回一个在区间[low, high)中**均匀分布**的数组，size指定形状。\n",
    "参数：\n",
    "\n",
    "low, high：float型或者float型的类数组对象。指定抽样区间为[low, high)，low的默认值为0.0，hign的默认值为1.0\n",
    "\n",
    "size：int型或int型元组。指定形状，如果不提供size，则返回一个服从该分布的随机数。"
   ]
  },
  {
   "cell_type": "code",
   "execution_count": 6,
   "metadata": {},
   "outputs": [
    {
     "name": "stdout",
     "output_type": "stream",
     "text": [
      "[[2.69776172 8.03639506]\n",
      " [7.33725799 5.73758045]\n",
      " [7.81415529 3.22647691]]\n",
      "6.351476249470792\n",
      "0.5052151775476945\n"
     ]
    }
   ],
   "source": [
    "# 在[1, 10)之间均匀抽样，数组形状为3行2列\n",
    "a = np.random.uniform(1, 10, (3, 2))\n",
    "print(a)\n",
    "# 不提供size\n",
    "b = np.random.uniform(1, 10)\n",
    "print(b)\n",
    "c = np.random.uniform()\n",
    "print(c)"
   ]
  },
  {
   "cell_type": "markdown",
   "metadata": {},
   "source": [
    "#### <span id=\"3.4\">numpy.random.randn(d0, d1, ..., dn)(low=0.0, high=1.0, size=None)</span>\n",
    "作用：返回一个指定形状的数组，数组中的值服从**标准正态分布**（均值为0，方差为1）。  \n",
    "\n",
    "参数：d0, d, ..., dn : int，可选。如果没有参数，则返回一个服从标准正态分布的float型随机数。  \n",
    " \n",
    "返回值：ndarray对象或者float"
   ]
  },
  {
   "cell_type": "code",
   "execution_count": 7,
   "metadata": {},
   "outputs": [
    {
     "name": "stdout",
     "output_type": "stream",
     "text": [
      "[[-1.51935852  0.48431397]\n",
      " [ 0.39985805 -0.19728733]\n",
      " [ 0.50863094 -0.53478411]]\n",
      "-0.6008487326204045\n"
     ]
    }
   ],
   "source": [
    "# 3行2列\n",
    "a = np.random.randn(3, 2)\n",
    "print(a)\n",
    "# 不提供形状\n",
    "b = np.random.randn()\n",
    "print(b)"
   ]
  },
  {
   "cell_type": "markdown",
   "metadata": {},
   "source": [
    "#### <span id=\"3.5\">numpy.random.normal(loc=0.0, scale=1.0, size=None)\n",
    "</span>\n",
    "\n",
    "作用：返回一个由size指定形状的数组，数组中的值**服从 μ=loc,σ=scale 的正态分布**。  \n",
    "\n",
    "参数：\n",
    "loc : float型或者float型的类数组对象，指定均值 μ  \n",
    "\n",
    "scale : float型或者float型的类数组对象，指定标准差 σ  \n",
    "\n",
    "size : int型或者int型的元组，指定了数组的形状。如果不提供size，且loc和scale为标量（不是类数组对象），则返回一个服从该分布的随机数。  \n",
    "\n",
    "输出：ndarray对象或者一个标量"
   ]
  },
  {
   "cell_type": "code",
   "execution_count": 8,
   "metadata": {},
   "outputs": [
    {
     "name": "stdout",
     "output_type": "stream",
     "text": [
      "[[-0.63233601  0.43433585]\n",
      " [ 0.40547167  0.21032598]\n",
      " [-2.21205312  0.36268495]]\n",
      "4.137566608686112\n"
     ]
    }
   ],
   "source": [
    "# 标准正态分布，3行2列\n",
    "a = np.random.normal(0, 1, (3, 2))\n",
    "print(a)\n",
    "# 均值为1，标准差为3\n",
    "b = np.random.normal(1, 3)\n",
    "print(b)"
   ]
  },
  {
   "cell_type": "code",
   "execution_count": null,
   "metadata": {},
   "outputs": [],
   "source": []
  }
 ],
 "metadata": {
  "kernelspec": {
   "display_name": "Python 3",
   "language": "python",
   "name": "python3"
  },
  "language_info": {
   "codemirror_mode": {
    "name": "ipython",
    "version": 3
   },
   "file_extension": ".py",
   "mimetype": "text/x-python",
   "name": "python",
   "nbconvert_exporter": "python",
   "pygments_lexer": "ipython3",
   "version": "3.7.1"
  }
 },
 "nbformat": 4,
 "nbformat_minor": 2
}
