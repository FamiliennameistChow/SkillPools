{
 "cells": [
  {
   "cell_type": "markdown",
   "metadata": {},
   "source": [
    "## numpy 函数示例\n",
    "* [.all()与.any()](#1)\n",
    "* [删除矩阵中的某些元素](#2)\n"
   ]
  },
  {
   "cell_type": "markdown",
   "metadata": {},
   "source": [
    "###  <span id=\"1\">.all()与.any()</span>\n",
    "主要用于两个矩阵的比较  \n"
   ]
  },
  {
   "cell_type": "code",
   "execution_count": 20,
   "metadata": {},
   "outputs": [],
   "source": [
    "import numpy as np"
   ]
  },
  {
   "cell_type": "code",
   "execution_count": 21,
   "metadata": {},
   "outputs": [
    {
     "name": "stdout",
     "output_type": "stream",
     "text": [
      "[[False  True  True]\n",
      " [False False  True]]\n",
      "[[False False False]\n",
      " [ True  True False]]\n",
      "False\n",
      "True\n"
     ]
    }
   ],
   "source": [
    "a = np.array([[1, 2, 3],\n",
    "              [3, 6, 8]])\n",
    "              \n",
    "b = np.array([[2, 2, 3],\n",
    "              [1, 3, 8]])\n",
    "              \n",
    "print(a == b)\n",
    "print(a > b)\n",
    "# .all()如果两个矩阵中的所有元素对应相等，则返回True，反之返回False\n",
    "print((a == b).all())\n",
    "# .any()如果判断两个矩阵中是否有相等的元素，有任何一个相等就行\n",
    "print((a > b).any())"
   ]
  },
  {
   "cell_type": "markdown",
   "metadata": {},
   "source": [
    "###  <span id=\"2\">删除矩阵中的某些元素</span>\n",
    "```python\n",
    "np.delete(numpy, index)\n",
    "```\n",
    "> * numpy - 需要删除的数组\n",
    "> * index - 需要删除的元素的坐标\n"
   ]
  },
  {
   "cell_type": "code",
   "execution_count": 22,
   "metadata": {},
   "outputs": [
    {
     "name": "stdout",
     "output_type": "stream",
     "text": [
      "[0 1 2 7]\n"
     ]
    }
   ],
   "source": [
    "a = np.array([0, 1, 2, 4, 7])\n",
    "# 删除4\n",
    "print(np.delete(a, np.where(a == 4)))"
   ]
  }
 ],
 "metadata": {
  "kernelspec": {
   "display_name": "Python 3",
   "language": "python",
   "name": "python3"
  },
  "language_info": {
   "codemirror_mode": {
    "name": "ipython",
    "version": 3
   },
   "file_extension": ".py",
   "mimetype": "text/x-python",
   "name": "python",
   "nbconvert_exporter": "python",
   "pygments_lexer": "ipython3",
   "version": "3.7.1"
  }
 },
 "nbformat": 4,
 "nbformat_minor": 2
}
