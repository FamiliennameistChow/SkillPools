{
 "cells": [
  {
   "cell_type": "markdown",
   "metadata": {
    "collapsed": true
   },
   "source": [
    "# numpy 切片\n",
    "\n",
    "深度强化学习中，需要将数据加载到buffer中,这里以图像数据为例， 图像的格式是 (H,W,3)"
   ]
  },
  {
   "cell_type": "code",
   "execution_count": 2,
   "metadata": {},
   "outputs": [
    {
     "name": "stdout",
     "output_type": "stream",
     "text": [
      " ============== \n",
      "(4, 4, 3)\n",
      " ============== \n",
      "(5, 4, 4, 3)\n",
      " ============== \n",
      "(4, 4, 3)\n",
      "(5, 4, 4, 3)\n"
     ]
    }
   ],
   "source": [
    "import numpy as np\n",
    "\n",
    "a = np.ones((4, 4, 3))\n",
    "\n",
    "print(\" ============== \")\n",
    "# print(a)\n",
    "print(np.shape(a))\n",
    "\n",
    "buffer = np.zeros((5, 4, 4, 3))\n",
    "print(\" ============== \")\n",
    "# print(buffer)\n",
    "print(np.shape(buffer))\n",
    "\n",
    "buffer[0] = a\n",
    "print(\" ============== \")\n",
    "print(np.shape(buffer[0]))\n",
    "print(np.shape(buffer))"
   ]
  },
  {
   "cell_type": "code",
   "execution_count": 3,
   "metadata": {},
   "outputs": [
    {
     "name": "stdout",
     "output_type": "stream",
     "text": [
      "(2, 4, 4, 3)\n"
     ]
    }
   ],
   "source": [
    "choice = np.random.choice(5, 2, replace=True)\n",
    "\n",
    "batch = buffer[choice, :]\n",
    "\n",
    "print(np.shape(batch))"
   ]
  },
  {
   "cell_type": "code",
   "execution_count": 7,
   "metadata": {},
   "outputs": [
    {
     "name": "stdout",
     "output_type": "stream",
     "text": [
      "(5, 2)\n",
      "(1, 2)\n",
      "[[1. 1.]\n",
      " [0. 0.]\n",
      " [0. 0.]\n",
      " [0. 0.]\n",
      " [0. 0.]]\n"
     ]
    }
   ],
   "source": [
    "buffer2 = np.zeros((5, 2))\n",
    "\n",
    "print(np.shape(buffer2))\n",
    "\n",
    "action = np.ones((1,2))\n",
    "\n",
    "print(np.shape(action))\n",
    "\n",
    "buffer2[0] = action\n",
    "\n",
    "print(buffer2)"
   ]
  },
  {
   "cell_type": "code",
   "execution_count": 6,
   "metadata": {},
   "outputs": [
    {
     "name": "stdout",
     "output_type": "stream",
     "text": [
      "(2,)\n",
      "[1.  0.2]\n",
      "1.0\n"
     ]
    }
   ],
   "source": [
    "action = np.array([1, 0.2])\n",
    "\n",
    "print(np.shape(action))\n",
    "print(action)\n",
    "print(action[0])"
   ]
  },
  {
   "cell_type": "markdown",
   "metadata": {},
   "source": [
    "# image batch process\n",
    "\n",
    "image batch size : (batch_size, channel, H, W)\n",
    "\n",
    "这里有buffer中的图像batch 为10 ， 大小为 240， 320， 3  \n",
    "\n",
    "即为(10, 240, 320, 3)  \n",
    "\n",
    "需要转为tensor (10, 3, 240, 320)"
   ]
  },
  {
   "cell_type": "code",
   "execution_count": 8,
   "metadata": {},
   "outputs": [
    {
     "name": "stdout",
     "output_type": "stream",
     "text": [
      "(240, 320, 3)\n",
      "(240, 320, 3)\n",
      "(240, 320, 3)\n",
      "(240, 320, 3)\n",
      "(240, 320, 3)\n",
      "(240, 320, 3)\n",
      "(240, 320, 3)\n",
      "(240, 320, 3)\n",
      "(240, 320, 3)\n",
      "(240, 320, 3)\n"
     ]
    }
   ],
   "source": [
    "batch_image_np = np.ones((10, 240, 320, 3))\n",
    "\n",
    "for i in range(np.shape(batch_image_np)[0]):\n",
    "    np_image = batch_image_np[i, :]\n",
    "    print(np.shape(np_image))"
   ]
  },
  {
   "cell_type": "code",
   "execution_count": null,
   "metadata": {},
   "outputs": [],
   "source": []
  }
 ],
 "metadata": {
  "kernelspec": {
   "display_name": "Python 3 (ipykernel)",
   "language": "python",
   "name": "python3"
  },
  "language_info": {
   "codemirror_mode": {
    "name": "ipython",
    "version": 3
   },
   "file_extension": ".py",
   "mimetype": "text/x-python",
   "name": "python",
   "nbconvert_exporter": "python",
   "pygments_lexer": "ipython3",
   "version": "3.9.7"
  }
 },
 "nbformat": 4,
 "nbformat_minor": 1
}
