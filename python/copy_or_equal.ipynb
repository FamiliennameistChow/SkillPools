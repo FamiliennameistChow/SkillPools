{
 "cells": [
  {
   "cell_type": "markdown",
   "metadata": {},
   "source": [
    "### 深copy和浅copy"
   ]
  },
  {
   "cell_type": "code",
   "execution_count": 15,
   "metadata": {},
   "outputs": [
    {
     "name": "stdout",
     "output_type": "stream",
     "text": [
      "d [[11, 12, 13], [21, 22, 23], 333] \n",
      "e [[11, 12, 13], [21, 22, 23], 333] \n",
      "id of a 1891330899080 \n",
      "id of c 1891331742320 \n",
      "id of d: 1891330519368 \n",
      "id of e: 1891330897160\n"
     ]
    }
   ],
   "source": [
    "import copy\n",
    "\n",
    "a = [11, 12, 13]\n",
    "b = [21, 22, 23]\n",
    "c = 333\n",
    "d = [a, b, c]\n",
    "e = copy.copy(d)\n",
    "print(\"d\", d, \n",
    "     \"\\ne\", e,\n",
    "     \"\\nid of a\", str(id(a)),\n",
    "     \"\\nid of c\", str(id(c)),\n",
    "     \"\\nid of d:\", str(id(d)),\n",
    "     \"\\nid of e:\", str(id(e)))\n"
   ]
  },
  {
   "cell_type": "code",
   "execution_count": 17,
   "metadata": {},
   "outputs": [
    {
     "name": "stdout",
     "output_type": "stream",
     "text": [
      "d [[11, 12, 13], [21, 22, 23], 333] \n",
      "e [[11, 12, 13], [21, 22, 23], 444] \n",
      "id of a 1891330899080 \n",
      "id of c 1891331742320 \n",
      "id of d: 1891330519368 \n",
      "id of e: 1891330897160\n"
     ]
    }
   ],
   "source": [
    "e[2] = 444\n",
    "print(\"d\", d, \n",
    "     \"\\ne\", e,\n",
    "     \"\\nid of a\", str(id(a)),\n",
    "     \"\\nid of c\", str(id(c)),\n",
    "     \"\\nid of d:\", str(id(d)),\n",
    "     \"\\nid of e:\", str(id(e)))"
   ]
  },
  {
   "cell_type": "markdown",
   "metadata": {},
   "source": [
    "* c 的id没有变"
   ]
  },
  {
   "cell_type": "code",
   "execution_count": 22,
   "metadata": {},
   "outputs": [
    {
     "name": "stdout",
     "output_type": "stream",
     "text": [
      "d [[1111, 12, 13], [21, 22, 23], 333] \n",
      "e [[1111, 12, 13], [21, 22, 23], 444] \n",
      "id of a 1891330899080 \n",
      "id of c 1891331740144 \n",
      "id of d: 1891330519368 \n",
      "id of e: 1891330897160\n",
      "a [1111, 12, 13]\n"
     ]
    }
   ],
   "source": [
    "e[0][0] =1111\n",
    "print(\"d\", d, \n",
    "     \"\\ne\", e,\n",
    "     \"\\nid of a\", str(id(a)),\n",
    "     \"\\nid of c\", str(id(c)),\n",
    "     \"\\nid of d:\", str(id(d)),\n",
    "     \"\\nid of e:\", str(id(e)))\n",
    "print(\"a\", a)"
   ]
  },
  {
   "cell_type": "code",
   "execution_count": 21,
   "metadata": {},
   "outputs": [
    {
     "name": "stdout",
     "output_type": "stream",
     "text": [
      "d [[1111, 12, 13], [21, 22, 23], 333] \n",
      "e [[1111, 12, 13], [21, 22, 23], 444] \n",
      "id of a 1891330899080 \n",
      "id of c 1891331740144 \n",
      "id of d: 1891330519368 \n",
      "id of e: 1891330897160\n"
     ]
    }
   ],
   "source": [
    "c = 555\n",
    "print(\"d\", d, \n",
    "     \"\\ne\", e,\n",
    "     \"\\nid of a\", str(id(a)),\n",
    "     \"\\nid of c\", str(id(c)),\n",
    "     \"\\nid of d:\", str(id(d)),\n",
    "     \"\\nid of e:\", str(id(e)))"
   ]
  },
  {
   "cell_type": "markdown",
   "metadata": {},
   "source": [
    "* c的id变化"
   ]
  },
  {
   "cell_type": "code",
   "execution_count": 19,
   "metadata": {},
   "outputs": [
    {
     "name": "stdout",
     "output_type": "stream",
     "text": [
      "d [[111, 12, 13], [21, 22, 23], 333] \n",
      "e [[111, 12, 13], [21, 22, 23], 444] \n",
      "id of a 1891330899080 \n",
      "id of c 1891331741616 \n",
      "id of d: 1891330519368 \n",
      "id of e: 1891330897160\n"
     ]
    }
   ],
   "source": [
    "a[0] = 111\n",
    "print(\"d\", d, \n",
    "     \"\\ne\", e,\n",
    "     \"\\nid of a\", str(id(a)),\n",
    "     \"\\nid of c\", str(id(c)),\n",
    "     \"\\nid of d:\", str(id(d)),\n",
    "     \"\\nid of e:\", str(id(e)))"
   ]
  },
  {
   "cell_type": "code",
   "execution_count": null,
   "metadata": {},
   "outputs": [],
   "source": []
  }
 ],
 "metadata": {
  "kernelspec": {
   "display_name": "Python 3",
   "language": "python",
   "name": "python3"
  },
  "language_info": {
   "codemirror_mode": {
    "name": "ipython",
    "version": 3
   },
   "file_extension": ".py",
   "mimetype": "text/x-python",
   "name": "python",
   "nbconvert_exporter": "python",
   "pygments_lexer": "ipython3",
   "version": "3.7.1"
  }
 },
 "nbformat": 4,
 "nbformat_minor": 2
}
